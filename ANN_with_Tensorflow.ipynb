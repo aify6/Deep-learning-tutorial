{
  "nbformat": 4,
  "nbformat_minor": 0,
  "metadata": {
    "colab": {
      "provenance": []
    },
    "kernelspec": {
      "name": "python3",
      "display_name": "Python 3"
    },
    "language_info": {
      "name": "python"
    }
  },
  "cells": [
    {
      "cell_type": "markdown",
      "source": [
        "# **Artifitial Neural Networks (ANN) with TensorFlow**\n",
        "\n",
        "TensorFlow is an open-source machine learning library developed by Google, specifically designed for building and training neural networks with high flexibility and performance.\n",
        "- It includes Keras, a high-level API for building neural networks easily.\n",
        "- Optimized for both large-scale and small-scale models.\n",
        "- Flexible and scalable for research and production.\n",
        "\n",
        "## **TensorFlow Neural Network Components**\n",
        "\n",
        "### **Keras API**\n",
        "- High-level neural network construction\n",
        "- Simplified model building\n",
        "- Seamless integration with TensorFlow backend\n",
        "\n",
        "### **Key TensorFlow Neural Network Layers**\n",
        "- Dense (Fully Connected) Layers\n",
        "- Convolutional Layers\n",
        "- Recurrent Layers\n",
        "- Embedding Layers\n",
        "- Dropout Layers\n",
        "- Batch Normalization Layers\n",
        "\n",
        "## **Training Configuration/Parameters**\n",
        "\n",
        "**Optimizers:** Adam, SGD, RMSprop\n",
        "\n",
        "\n",
        "**Loss Functions:** Binary Crossentropy, Categorical Crossentropy, Mean Squared Error\n",
        "\n",
        "\n",
        "**Metrics:** Accuracy, Precision, Recall\n",
        "\n",
        "\n",
        "\n",
        "## **Advanced TensorFlow Training Techniques**\n",
        "\n",
        "**Callbacks:** Early Stopping, Learning Rate Scheduling, Model Checkpointing\n",
        "\n",
        "\n",
        "**Data Preprocessing:** tf.data API, Input Pipeline, Optimization, Data Augmentation\n",
        "\n",
        "\n",
        "##**Performance Optimization**\n",
        "- GPU Acceleration\n",
        "- XLA (Accelerated Linear Algebra)\n",
        "- Mixed Precision Training\n",
        "- Distributed Training Strategies\n",
        "\n",
        "##**Model Saving and Deployment**\n",
        "- SavedModel Format\n",
        "- TensorFlow Serving\n",
        "- TensorFlow Lite (Mobile/Edge Deployment)\n",
        "- TensorFlow.js (Web Deployment)"
      ],
      "metadata": {
        "id": "swRC5gnPapZn"
      }
    },
    {
      "cell_type": "markdown",
      "source": [
        "#**Building an ANN with TensorFlow**\n",
        "## **Step 1: Understanding the Sequential Model**\n",
        "The Sequential class in Keras allows you to build a model layer-by-layer.\n",
        "Each layer is added sequentially, making it ideal for simple feedforward networks."
      ],
      "metadata": {
        "id": "IaDvs1O8dj8m"
      }
    },
    {
      "cell_type": "code",
      "execution_count": null,
      "metadata": {
        "id": "ipGEQ3OoOqcP"
      },
      "outputs": [],
      "source": [
        "import tensorflow as tf\n",
        "from tensorflow.keras.models import Sequential\n",
        "from tensorflow.keras.layers import Dense"
      ]
    },
    {
      "cell_type": "code",
      "source": [
        "# Create a simple ANN model\n",
        "\n",
        "\n",
        "# MODEL ARCHITECTURE\n",
        "num_features = 4\n",
        "model = Sequential([\n",
        "                    Dense(4, input_dim=num_features, activation='relu'), # Hidden layer 1\n",
        "                    Dense(units=8, activation='relu'), # Hidden layer 2\n",
        "                    Dense(units=1, activation='sigmoid') # Output layer\n",
        "                    ])\n"
      ],
      "metadata": {
        "colab": {
          "base_uri": "https://localhost:8080/"
        },
        "id": "FomYGTTSX465",
        "outputId": "33cf26c2-7137-4ed5-dd08-209a2b303f4c"
      },
      "execution_count": null,
      "outputs": [
        {
          "output_type": "stream",
          "name": "stderr",
          "text": [
            "/usr/local/lib/python3.11/dist-packages/keras/src/layers/core/dense.py:87: UserWarning: Do not pass an `input_shape`/`input_dim` argument to a layer. When using Sequential models, prefer using an `Input(shape)` object as the first layer in the model instead.\n",
            "  super().__init__(activity_regularizer=activity_regularizer, **kwargs)\n"
          ]
        }
      ]
    },
    {
      "cell_type": "markdown",
      "source": [
        "##**Step 2: Compiling the Model**\n",
        "###**Key Parameters in compile:**\n",
        "**optimizer:** Algorithm used to adjust weights and biases. Common optimizers include:\n",
        "- **adam:** Combines the best properties of RMSprop and - SGD, often used by default.\n",
        "- **sgd:** Stochastic Gradient Descent.\n",
        "- **rmsprop:** Adaptive learning rate method.\n",
        "\n",
        "**loss:** Measures the difference between predicted and true values.\n",
        "- **binary_crossentropy** for binary classification.\n",
        "- **categorical_crossentropy** for multi-class classification.\n",
        "\n",
        "**metrics:** Metrics used to evaluate the model's performance (e.g., accuracy)."
      ],
      "metadata": {
        "id": "eyCCX3Wrd4zn"
      }
    },
    {
      "cell_type": "code",
      "source": [
        "model.compile(optimizer='adam',loss='binary_crossentropy',metrics=['accuracy'])"
      ],
      "metadata": {
        "id": "ZArlyWP0e43q"
      },
      "execution_count": null,
      "outputs": []
    },
    {
      "cell_type": "markdown",
      "source": [
        "##**Step 3: Training the Model**\n",
        "### **Key Parameters in fit:**\n",
        "**batch_size:** Number of samples processed before updating the model’s weights. Smaller batch_size leads to faster updates but more noise. Common values: 32, 64, 128.\n",
        "\n",
        "\n",
        "**epochs:** Number of times the entire dataset is passed through the model.\n",
        "Too many epochs can lead to overfitting.\n",
        "\n",
        "\n",
        "**validation_split:** Fraction of the training data used for validation. Helps monitor the model's performance on unseen data during training.\n",
        "\n",
        "\n",
        "**verbose:** Controls the amount of output displayed during training.\n",
        "\n",
        "- 0: No output.\n",
        "- 1: Progress bar for each epoch.\n",
        "- 2: One line per epoch."
      ],
      "metadata": {
        "id": "3kShGgDDe8DN"
      }
    },
    {
      "cell_type": "code",
      "source": [
        "history = model.fit(X_train, y_train,\n",
        "                    batch_size = 32,\n",
        "                    epoch= 100,\n",
        "                    validation_split=0.2,\n",
        "                    verbose = 1\n",
        "                    )"
      ],
      "metadata": {
        "id": "p9k2v9ZQgB21",
        "colab": {
          "base_uri": "https://localhost:8080/",
          "height": 211
        },
        "outputId": "198596ef-5f60-4d0c-cda7-0724cdb31c8c"
      },
      "execution_count": null,
      "outputs": [
        {
          "output_type": "error",
          "ename": "NameError",
          "evalue": "name 'X_train' is not defined",
          "traceback": [
            "\u001b[0;31m---------------------------------------------------------------------------\u001b[0m",
            "\u001b[0;31mNameError\u001b[0m                                 Traceback (most recent call last)",
            "\u001b[0;32m<ipython-input-6-cab2b5f93cf4>\u001b[0m in \u001b[0;36m<cell line: 0>\u001b[0;34m()\u001b[0m\n\u001b[0;32m----> 1\u001b[0;31m history = model.fit(X_train, y_train,\n\u001b[0m\u001b[1;32m      2\u001b[0m                     \u001b[0mbatch_size\u001b[0m \u001b[0;34m=\u001b[0m \u001b[0;36m32\u001b[0m\u001b[0;34m,\u001b[0m\u001b[0;34m\u001b[0m\u001b[0;34m\u001b[0m\u001b[0m\n\u001b[1;32m      3\u001b[0m                     \u001b[0mepoch\u001b[0m\u001b[0;34m=\u001b[0m \u001b[0;36m100\u001b[0m\u001b[0;34m,\u001b[0m\u001b[0;34m\u001b[0m\u001b[0;34m\u001b[0m\u001b[0m\n\u001b[1;32m      4\u001b[0m                     \u001b[0mvalidation_split\u001b[0m\u001b[0;34m=\u001b[0m\u001b[0;36m0.2\u001b[0m\u001b[0;34m,\u001b[0m\u001b[0;34m\u001b[0m\u001b[0;34m\u001b[0m\u001b[0m\n\u001b[1;32m      5\u001b[0m                     \u001b[0mverbose\u001b[0m \u001b[0;34m=\u001b[0m \u001b[0;36m1\u001b[0m\u001b[0;34m\u001b[0m\u001b[0;34m\u001b[0m\u001b[0m\n",
            "\u001b[0;31mNameError\u001b[0m: name 'X_train' is not defined"
          ]
        }
      ]
    },
    {
      "cell_type": "code",
      "source": [
        "from sklearn.datasets import load_breast_cancer\n",
        "from sklearn.model_selection import train_test_split\n",
        "from sklearn.preprocessing import StandardScaler\n",
        "\n",
        "# Load the dataset\n",
        "data = load_breast_cancer()\n",
        "X, y = data.data, data.target"
      ],
      "metadata": {
        "id": "u-yF-u3Oea0F"
      },
      "execution_count": null,
      "outputs": []
    },
    {
      "cell_type": "code",
      "source": [
        "#split the data\n",
        "X_train, X_test, y_train, y_test = train_test_split(X, y, test_size=0.2, random_state=42)"
      ],
      "metadata": {
        "id": "ytkK-ybSeuzY"
      },
      "execution_count": null,
      "outputs": []
    },
    {
      "cell_type": "code",
      "source": [
        "# Normalize the data\n",
        "scaler = StandardScaler()\n",
        "X_train = scaler.fit_transform(X_train)\n",
        "X_test = scaler.transform(X_test)"
      ],
      "metadata": {
        "id": "lOHQJ659fDlT"
      },
      "execution_count": null,
      "outputs": []
    },
    {
      "cell_type": "code",
      "source": [
        "import tensorflow as tf\n",
        "from tensorflow.keras.models import Sequential\n",
        "from tensorflow.keras.layers import Dense, Dropout, BatchNormalization\n",
        "from tensorflow.keras.callbacks import EarlyStopping\n",
        "\n",
        "# define the model\n",
        "model = Sequential([\n",
        "                    Dense(50, input_dim=X_train.shape[1], activation='relu'), # Hidden layer 1\n",
        "                    BatchNormalization(),\n",
        "                    Dropout(0.3),\n",
        "\n",
        "                    Dense(units=100, activation='relu'), # Hidden layer 2\n",
        "                    BatchNormalization(),\n",
        "                    Dropout(0.5),\n",
        "\n",
        "                    Dense(units=50, activation='relu'), # Hidden layer 2\n",
        "\n",
        "                    Dense(units=1, activation='sigmoid') # Output layer\n",
        "                    ])\n",
        "#Compile the model\n",
        "model.compile(optimizer = tf.keras.optimizers.Adam(learning_rate=0.01),\n",
        "              loss='binary_crossentropy',\n",
        "              metrics=['accuracy'])\n",
        "\n",
        "#Early stopping\n",
        "early_stopping = EarlyStopping(monitor='val_loss',\n",
        "                               patience=10,\n",
        "                               restore_best_weights=True)\n",
        "\n",
        "# Train the model\n",
        "history = model.fit(X_train,y_train,\n",
        "                    validation_split=0.2,\n",
        "                    epochs =100,\n",
        "                    batch_size=32,\n",
        "                    callbacks=[early_stopping],\n",
        "                    verbose = 1)"
      ],
      "metadata": {
        "id": "R1TVUdyNfVNX",
        "colab": {
          "base_uri": "https://localhost:8080/"
        },
        "outputId": "0089116d-97bb-4334-ee61-d7c6a7938eae"
      },
      "execution_count": null,
      "outputs": [
        {
          "output_type": "stream",
          "name": "stderr",
          "text": [
            "/usr/local/lib/python3.11/dist-packages/keras/src/layers/core/dense.py:87: UserWarning: Do not pass an `input_shape`/`input_dim` argument to a layer. When using Sequential models, prefer using an `Input(shape)` object as the first layer in the model instead.\n",
            "  super().__init__(activity_regularizer=activity_regularizer, **kwargs)\n"
          ]
        },
        {
          "output_type": "stream",
          "name": "stdout",
          "text": [
            "Epoch 1/100\n",
            "\u001b[1m12/12\u001b[0m \u001b[32m━━━━━━━━━━━━━━━━━━━━\u001b[0m\u001b[37m\u001b[0m \u001b[1m3s\u001b[0m 23ms/step - accuracy: 0.7832 - loss: 0.4836 - val_accuracy: 0.9670 - val_loss: 0.1847\n",
            "Epoch 2/100\n",
            "\u001b[1m12/12\u001b[0m \u001b[32m━━━━━━━━━━━━━━━━━━━━\u001b[0m\u001b[37m\u001b[0m \u001b[1m0s\u001b[0m 6ms/step - accuracy: 0.9355 - loss: 0.1412 - val_accuracy: 0.9560 - val_loss: 0.1198\n",
            "Epoch 3/100\n",
            "\u001b[1m12/12\u001b[0m \u001b[32m━━━━━━━━━━━━━━━━━━━━\u001b[0m\u001b[37m\u001b[0m \u001b[1m0s\u001b[0m 5ms/step - accuracy: 0.9531 - loss: 0.1627 - val_accuracy: 0.9670 - val_loss: 0.0953\n",
            "Epoch 4/100\n",
            "\u001b[1m12/12\u001b[0m \u001b[32m━━━━━━━━━━━━━━━━━━━━\u001b[0m\u001b[37m\u001b[0m \u001b[1m0s\u001b[0m 5ms/step - accuracy: 0.9613 - loss: 0.1355 - val_accuracy: 0.9780 - val_loss: 0.0950\n",
            "Epoch 5/100\n",
            "\u001b[1m12/12\u001b[0m \u001b[32m━━━━━━━━━━━━━━━━━━━━\u001b[0m\u001b[37m\u001b[0m \u001b[1m0s\u001b[0m 5ms/step - accuracy: 0.9582 - loss: 0.1001 - val_accuracy: 0.9780 - val_loss: 0.0874\n",
            "Epoch 6/100\n",
            "\u001b[1m12/12\u001b[0m \u001b[32m━━━━━━━━━━━━━━━━━━━━\u001b[0m\u001b[37m\u001b[0m \u001b[1m0s\u001b[0m 5ms/step - accuracy: 0.9846 - loss: 0.0481 - val_accuracy: 0.9560 - val_loss: 0.0824\n",
            "Epoch 7/100\n",
            "\u001b[1m12/12\u001b[0m \u001b[32m━━━━━━━━━━━━━━━━━━━━\u001b[0m\u001b[37m\u001b[0m \u001b[1m0s\u001b[0m 7ms/step - accuracy: 0.9665 - loss: 0.0739 - val_accuracy: 0.9780 - val_loss: 0.0817\n",
            "Epoch 8/100\n",
            "\u001b[1m12/12\u001b[0m \u001b[32m━━━━━━━━━━━━━━━━━━━━\u001b[0m\u001b[37m\u001b[0m \u001b[1m0s\u001b[0m 5ms/step - accuracy: 0.9402 - loss: 0.1420 - val_accuracy: 0.9890 - val_loss: 0.0785\n",
            "Epoch 9/100\n",
            "\u001b[1m12/12\u001b[0m \u001b[32m━━━━━━━━━━━━━━━━━━━━\u001b[0m\u001b[37m\u001b[0m \u001b[1m0s\u001b[0m 5ms/step - accuracy: 0.9620 - loss: 0.0795 - val_accuracy: 0.9341 - val_loss: 0.1171\n",
            "Epoch 10/100\n",
            "\u001b[1m12/12\u001b[0m \u001b[32m━━━━━━━━━━━━━━━━━━━━\u001b[0m\u001b[37m\u001b[0m \u001b[1m0s\u001b[0m 5ms/step - accuracy: 0.9706 - loss: 0.0589 - val_accuracy: 0.9560 - val_loss: 0.1125\n",
            "Epoch 11/100\n",
            "\u001b[1m12/12\u001b[0m \u001b[32m━━━━━━━━━━━━━━━━━━━━\u001b[0m\u001b[37m\u001b[0m \u001b[1m0s\u001b[0m 5ms/step - accuracy: 0.9872 - loss: 0.0617 - val_accuracy: 0.9341 - val_loss: 0.1380\n",
            "Epoch 12/100\n",
            "\u001b[1m12/12\u001b[0m \u001b[32m━━━━━━━━━━━━━━━━━━━━\u001b[0m\u001b[37m\u001b[0m \u001b[1m0s\u001b[0m 5ms/step - accuracy: 0.9789 - loss: 0.0488 - val_accuracy: 0.9451 - val_loss: 0.1247\n",
            "Epoch 13/100\n",
            "\u001b[1m12/12\u001b[0m \u001b[32m━━━━━━━━━━━━━━━━━━━━\u001b[0m\u001b[37m\u001b[0m \u001b[1m0s\u001b[0m 5ms/step - accuracy: 0.9907 - loss: 0.0328 - val_accuracy: 0.9670 - val_loss: 0.0903\n",
            "Epoch 14/100\n",
            "\u001b[1m12/12\u001b[0m \u001b[32m━━━━━━━━━━━━━━━━━━━━\u001b[0m\u001b[37m\u001b[0m \u001b[1m0s\u001b[0m 6ms/step - accuracy: 0.9835 - loss: 0.0646 - val_accuracy: 0.9780 - val_loss: 0.0794\n",
            "Epoch 15/100\n",
            "\u001b[1m12/12\u001b[0m \u001b[32m━━━━━━━━━━━━━━━━━━━━\u001b[0m\u001b[37m\u001b[0m \u001b[1m0s\u001b[0m 5ms/step - accuracy: 0.9811 - loss: 0.0634 - val_accuracy: 0.9670 - val_loss: 0.0892\n",
            "Epoch 16/100\n",
            "\u001b[1m12/12\u001b[0m \u001b[32m━━━━━━━━━━━━━━━━━━━━\u001b[0m\u001b[37m\u001b[0m \u001b[1m0s\u001b[0m 7ms/step - accuracy: 0.9897 - loss: 0.0329 - val_accuracy: 0.9560 - val_loss: 0.1078\n",
            "Epoch 17/100\n",
            "\u001b[1m12/12\u001b[0m \u001b[32m━━━━━━━━━━━━━━━━━━━━\u001b[0m\u001b[37m\u001b[0m \u001b[1m0s\u001b[0m 5ms/step - accuracy: 0.9736 - loss: 0.0620 - val_accuracy: 0.9341 - val_loss: 0.1315\n",
            "Epoch 18/100\n",
            "\u001b[1m12/12\u001b[0m \u001b[32m━━━━━━━━━━━━━━━━━━━━\u001b[0m\u001b[37m\u001b[0m \u001b[1m0s\u001b[0m 6ms/step - accuracy: 0.9896 - loss: 0.0370 - val_accuracy: 0.9451 - val_loss: 0.1578\n"
          ]
        }
      ]
    },
    {
      "cell_type": "code",
      "source": [
        "test_loss, test_accuracy = model.evaluate(X_test, y_test)\n",
        "print(f\"Test Accuracy: {test_accuracy}\")\n",
        "print(f\"Test Loss: {test_loss}\")"
      ],
      "metadata": {
        "colab": {
          "base_uri": "https://localhost:8080/"
        },
        "id": "sE0EI81Xics4",
        "outputId": "2c335fce-34f0-46f8-c0cc-7a8f9fc21e7c"
      },
      "execution_count": null,
      "outputs": [
        {
          "output_type": "stream",
          "name": "stdout",
          "text": [
            "\u001b[1m4/4\u001b[0m \u001b[32m━━━━━━━━━━━━━━━━━━━━\u001b[0m\u001b[37m\u001b[0m \u001b[1m0s\u001b[0m 4ms/step - accuracy: 0.9558 - loss: 0.1119 \n",
            "Test Accuracy: 0.9649122953414917\n",
            "Test Loss: 0.09645091742277145\n"
          ]
        }
      ]
    },
    {
      "cell_type": "code",
      "source": [
        "import matplotlib.pyplot as plt\n",
        "\n",
        "plt.plot(history.history['accuracy'])\n",
        "plt.plot(history.history['val_accuracy'])\n",
        "plt.title('Model Accuracy')\n",
        "plt.ylabel('Accuracy')\n",
        "plt.xlabel('Epoch')\n",
        "plt.legend(['Train', 'Validation'], loc='upper left')\n",
        "plt.show()"
      ],
      "metadata": {
        "colab": {
          "base_uri": "https://localhost:8080/",
          "height": 472
        },
        "id": "VIL-K2HAiw2g",
        "outputId": "4ed0bd44-fdd2-438e-cf89-c4276af34caa"
      },
      "execution_count": null,
      "outputs": [
        {
          "output_type": "display_data",
          "data": {
            "text/plain": [
              "<Figure size 640x480 with 1 Axes>"
            ],
            "image/png": "[encoded data removed]"
          },
          "metadata": {}
        }
      ]
    },
    {
      "cell_type": "code",
      "source": [
        "plt.plot(history.history['loss'])\n",
        "plt.plot(history.history['val_loss'])\n",
        "plt.title('Model Loss')\n",
        "plt.ylabel('Accuracy')\n",
        "plt.xlabel('Epoch')\n",
        "plt.legend(['Train', 'Validation'], loc='upper left')\n",
        "plt.show()"
      ],
      "metadata": {
        "colab": {
          "base_uri": "https://localhost:8080/",
          "height": 472
        },
        "id": "iEBRpZxKjqEV",
        "outputId": "810e0192-70bc-4044-b261-39295dc81ff4"
      },
      "execution_count": null,
      "outputs": [
        {
          "output_type": "display_data",
          "data": {
            "text/plain": [
              "<Figure size 640x480 with 1 Axes>"
            ],
            "image/png": "[encoded data removed]"
          },
          "metadata": {}
        }
      ]
    },
    {
      "cell_type": "markdown",
      "source": [
        "## **Building the Advanced ANN**\n",
        "### 1. **Adding Dropout Layers**\n",
        "Dropout is a regularization technique that randomly \"drops\" neurons during training, reducing overfitting by preventing the network from becoming too reliant on specific neurons.\n",
        "- **Dropout rate:** Proportion of neurons to drop (e.g., 0.5 means 50% of neurons are dropped).\n",
        "- Applied only during training, not during evaluation.\n",
        "\n",
        "### 2. **Adding Batch Normalization**\n",
        "Batch Normalization normalizes the input of each layer to improve training speed and stability, ensuring that the mean activation is close to zero and the standard deviation is close to one.\n",
        "- Accelerates training.\n",
        "- Reduces sensitivity to initialization.\n",
        "- Acts as a form of regularization.\n",
        "\n",
        "\n",
        "### 3. **Using Early Stopping**\n",
        "Early Stopping halts training when the validation performance stops improving, preventing overfitting.\n",
        "- **monitor:** Metric to monitor (e.g., 'val_loss').\n",
        "- **patience:** Number of epochs to wait before stopping.\n",
        "\n",
        "### **4. Learning Rate Schedules**\n",
        "Adjusting the learning rate dynamically during training can improve convergence and reduce training time. TensorFlow offers several schedules:\n",
        "- **Exponential Decay:** Reduces the learning rate exponentially over epochs.\n",
        "- **Piecewise Constant Decay:** Uses different learning rates for different ranges of epochs.\n",
        "- **Cyclic Learning Rates:** Cycles between a lower and upper learning rate.\n",
        "\n",
        "### **5. Regularization**\n",
        "Regularization prevents overfitting by adding penalties to the loss function.\n",
        "\n",
        "- **L1 Regularization:** Adds the absolute values of weights to the loss function.\n",
        "- **L2 Regularization (Ridge):** Adds the squared values of weights (default in Keras).\n",
        "- **Elastic Net:** Combines L1 and L2 regularization."
      ],
      "metadata": {
        "id": "k_GH8V9hgFMO"
      }
    },
    {
      "cell_type": "code",
      "source": [
        "import numpy as np\n",
        "from sklearn.datasets import fetch_california_housing\n",
        "\n",
        "#Load data\n",
        "data = fetch_california_housing()\n",
        "X,y = data.data, data.target"
      ],
      "metadata": {
        "id": "1WeV76lqqxtx"
      },
      "execution_count": null,
      "outputs": []
    },
    {
      "cell_type": "code",
      "source": [
        "#split the data\n",
        "X_train, X_test, y_train, y_test = train_test_split(X, y, test_size=0.2, random_state=42)"
      ],
      "metadata": {
        "id": "ypqiGDldrVAu"
      },
      "execution_count": null,
      "outputs": []
    },
    {
      "cell_type": "code",
      "source": [
        "# Normalize\n",
        "scaler = StandardScaler()\n",
        "X_train = scaler.fit_transform(X_train)\n",
        "X_test = scaler.transform(X_test)"
      ],
      "metadata": {
        "id": "G9jtZzjorXFO"
      },
      "execution_count": null,
      "outputs": []
    },
    {
      "cell_type": "markdown",
      "source": [
        "- Building architecture\n",
        "- compile model\n",
        "- train"
      ],
      "metadata": {
        "id": "CHGZ9m1tr_FH"
      }
    },
    {
      "cell_type": "code",
      "source": [
        "from tensorflow.keras.optimizers.schedules import ExponentialDecay\n",
        "from tensorflow.keras.callbacks import LearningRateScheduler\n",
        "\n",
        "model = Sequential([\n",
        "    Dense(20, activation='relu', input_dim=(X_train.shape[1])),\n",
        "    BatchNormalization(),\n",
        "    Dense(100, activation='relu'),\n",
        "    BatchNormalization(),\n",
        "    Dense(100, activation='relu'),\n",
        "    BatchNormalization(),\n",
        "    Dense(1, activation='linear')\n",
        "])\n",
        "\n",
        "#Defining LR Schedule\n",
        "lr_schedule = ExponentialDecay(\n",
        "    initial_learning_rate=1e-2,\n",
        "    decay_steps=100,\n",
        "    decay_rate=0.5\n",
        ")\n",
        "\n",
        "# Compile the model\n",
        "model.compile(loss='mse', optimizer=tf.keras.optimizers.Adam(learning_rate=lr_schedule), metrics=['r2_score'])\n",
        "\n",
        "#Early stopping\n",
        "early_stopping = EarlyStopping(monitor='val_loss',\n",
        "                               patience=10,\n",
        "                               restore_best_weights=True)\n",
        "\n",
        "\n",
        "# Train the model\n",
        "history = model.fit(X_train, y_train,\n",
        "                    epochs=100,\n",
        "                    batch_size=64,\n",
        "                    verbose=1,\n",
        "                    validation_split= 0.3,\n",
        "                    callbacks=[early_stopping]\n",
        ")"
      ],
      "metadata": {
        "colab": {
          "base_uri": "https://localhost:8080/"
        },
        "id": "Hw0T3moGruKl",
        "outputId": "e57798e1-85bc-4b63-c2c5-6803c873776f"
      },
      "execution_count": null,
      "outputs": [
        {
          "output_type": "stream",
          "name": "stdout",
          "text": [
            "Epoch 1/100\n",
            "\u001b[1m181/181\u001b[0m \u001b[32m━━━━━━━━━━━━━━━━━━━━\u001b[0m\u001b[37m\u001b[0m \u001b[1m5s\u001b[0m 4ms/step - loss: 1.6090 - r2_score: -0.1418 - val_loss: 0.6043 - val_r2_score: 0.5517\n",
            "Epoch 2/100\n",
            "\u001b[1m181/181\u001b[0m \u001b[32m━━━━━━━━━━━━━━━━━━━━\u001b[0m\u001b[37m\u001b[0m \u001b[1m1s\u001b[0m 3ms/step - loss: 0.3857 - r2_score: 0.7113 - val_loss: 0.4109 - val_r2_score: 0.6952\n",
            "Epoch 3/100\n",
            "\u001b[1m181/181\u001b[0m \u001b[32m━━━━━━━━━━━━━━━━━━━━\u001b[0m\u001b[37m\u001b[0m \u001b[1m1s\u001b[0m 3ms/step - loss: 0.3630 - r2_score: 0.7291 - val_loss: 0.3604 - val_r2_score: 0.7327\n",
            "Epoch 4/100\n",
            "\u001b[1m181/181\u001b[0m \u001b[32m━━━━━━━━━━━━━━━━━━━━\u001b[0m\u001b[37m\u001b[0m \u001b[1m1s\u001b[0m 3ms/step - loss: 0.3532 - r2_score: 0.7379 - val_loss: 0.3587 - val_r2_score: 0.7339\n",
            "Epoch 5/100\n",
            "\u001b[1m181/181\u001b[0m \u001b[32m━━━━━━━━━━━━━━━━━━━━\u001b[0m\u001b[37m\u001b[0m \u001b[1m1s\u001b[0m 3ms/step - loss: 0.3208 - r2_score: 0.7546 - val_loss: 0.3741 - val_r2_score: 0.7225\n",
            "Epoch 6/100\n",
            "\u001b[1m181/181\u001b[0m \u001b[32m━━━━━━━━━━━━━━━━━━━━\u001b[0m\u001b[37m\u001b[0m \u001b[1m1s\u001b[0m 3ms/step - loss: 0.3402 - r2_score: 0.7463 - val_loss: 0.3750 - val_r2_score: 0.7218\n",
            "Epoch 7/100\n",
            "\u001b[1m181/181\u001b[0m \u001b[32m━━━━━━━━━━━━━━━━━━━━\u001b[0m\u001b[37m\u001b[0m \u001b[1m1s\u001b[0m 4ms/step - loss: 0.3335 - r2_score: 0.7529 - val_loss: 0.3779 - val_r2_score: 0.7197\n",
            "Epoch 8/100\n",
            "\u001b[1m181/181\u001b[0m \u001b[32m━━━━━━━━━━━━━━━━━━━━\u001b[0m\u001b[37m\u001b[0m \u001b[1m1s\u001b[0m 6ms/step - loss: 0.3346 - r2_score: 0.7416 - val_loss: 0.3838 - val_r2_score: 0.7153\n",
            "Epoch 9/100\n",
            "\u001b[1m181/181\u001b[0m \u001b[32m━━━━━━━━━━━━━━━━━━━━\u001b[0m\u001b[37m\u001b[0m \u001b[1m1s\u001b[0m 5ms/step - loss: 0.3341 - r2_score: 0.7456 - val_loss: 0.3573 - val_r2_score: 0.7350\n",
            "Epoch 10/100\n",
            "\u001b[1m181/181\u001b[0m \u001b[32m━━━━━━━━━━━━━━━━━━━━\u001b[0m\u001b[37m\u001b[0m \u001b[1m1s\u001b[0m 5ms/step - loss: 0.3340 - r2_score: 0.7496 - val_loss: 0.3509 - val_r2_score: 0.7397\n",
            "Epoch 11/100\n",
            "\u001b[1m181/181\u001b[0m \u001b[32m━━━━━━━━━━━━━━━━━━━━\u001b[0m\u001b[37m\u001b[0m \u001b[1m2s\u001b[0m 9ms/step - loss: 0.3400 - r2_score: 0.7449 - val_loss: 0.3781 - val_r2_score: 0.7195\n",
            "Epoch 12/100\n",
            "\u001b[1m181/181\u001b[0m \u001b[32m━━━━━━━━━━━━━━━━━━━━\u001b[0m\u001b[37m\u001b[0m \u001b[1m2s\u001b[0m 8ms/step - loss: 0.3422 - r2_score: 0.7422 - val_loss: 0.3688 - val_r2_score: 0.7265\n",
            "Epoch 13/100\n",
            "\u001b[1m181/181\u001b[0m \u001b[32m━━━━━━━━━━━━━━━━━━━━\u001b[0m\u001b[37m\u001b[0m \u001b[1m2s\u001b[0m 3ms/step - loss: 0.3321 - r2_score: 0.7497 - val_loss: 0.3563 - val_r2_score: 0.7357\n",
            "Epoch 14/100\n",
            "\u001b[1m181/181\u001b[0m \u001b[32m━━━━━━━━━━━━━━━━━━━━\u001b[0m\u001b[37m\u001b[0m \u001b[1m1s\u001b[0m 3ms/step - loss: 0.3469 - r2_score: 0.7392 - val_loss: 0.3505 - val_r2_score: 0.7400\n",
            "Epoch 15/100\n",
            "\u001b[1m181/181\u001b[0m \u001b[32m━━━━━━━━━━━━━━━━━━━━\u001b[0m\u001b[37m\u001b[0m \u001b[1m1s\u001b[0m 3ms/step - loss: 0.3244 - r2_score: 0.7512 - val_loss: 0.3856 - val_r2_score: 0.7139\n",
            "Epoch 16/100\n",
            "\u001b[1m181/181\u001b[0m \u001b[32m━━━━━━━━━━━━━━━━━━━━\u001b[0m\u001b[37m\u001b[0m \u001b[1m1s\u001b[0m 3ms/step - loss: 0.3235 - r2_score: 0.7527 - val_loss: 0.3740 - val_r2_score: 0.7225\n",
            "Epoch 17/100\n",
            "\u001b[1m181/181\u001b[0m \u001b[32m━━━━━━━━━━━━━━━━━━━━\u001b[0m\u001b[37m\u001b[0m \u001b[1m1s\u001b[0m 3ms/step - loss: 0.3460 - r2_score: 0.7429 - val_loss: 0.3607 - val_r2_score: 0.7325\n",
            "Epoch 18/100\n",
            "\u001b[1m181/181\u001b[0m \u001b[32m━━━━━━━━━━━━━━━━━━━━\u001b[0m\u001b[37m\u001b[0m \u001b[1m1s\u001b[0m 3ms/step - loss: 0.3462 - r2_score: 0.7409 - val_loss: 0.3780 - val_r2_score: 0.7196\n",
            "Epoch 19/100\n",
            "\u001b[1m181/181\u001b[0m \u001b[32m━━━━━━━━━━━━━━━━━━━━\u001b[0m\u001b[37m\u001b[0m \u001b[1m1s\u001b[0m 3ms/step - loss: 0.3338 - r2_score: 0.7515 - val_loss: 0.3618 - val_r2_score: 0.7316\n",
            "Epoch 20/100\n",
            "\u001b[1m181/181\u001b[0m \u001b[32m━━━━━━━━━━━━━━━━━━━━\u001b[0m\u001b[37m\u001b[0m \u001b[1m1s\u001b[0m 3ms/step - loss: 0.3343 - r2_score: 0.7529 - val_loss: 0.3595 - val_r2_score: 0.7333\n",
            "Epoch 21/100\n",
            "\u001b[1m181/181\u001b[0m \u001b[32m━━━━━━━━━━━━━━━━━━━━\u001b[0m\u001b[37m\u001b[0m \u001b[1m1s\u001b[0m 3ms/step - loss: 0.3214 - r2_score: 0.7506 - val_loss: 0.3821 - val_r2_score: 0.7166\n",
            "Epoch 22/100\n",
            "\u001b[1m181/181\u001b[0m \u001b[32m━━━━━━━━━━━━━━━━━━━━\u001b[0m\u001b[37m\u001b[0m \u001b[1m1s\u001b[0m 3ms/step - loss: 0.3254 - r2_score: 0.7534 - val_loss: 0.3796 - val_r2_score: 0.7184\n",
            "Epoch 23/100\n",
            "\u001b[1m181/181\u001b[0m \u001b[32m━━━━━━━━━━━━━━━━━━━━\u001b[0m\u001b[37m\u001b[0m \u001b[1m1s\u001b[0m 3ms/step - loss: 0.3519 - r2_score: 0.7429 - val_loss: 0.3599 - val_r2_score: 0.7330\n",
            "Epoch 24/100\n",
            "\u001b[1m181/181\u001b[0m \u001b[32m━━━━━━━━━━━━━━━━━━━━\u001b[0m\u001b[37m\u001b[0m \u001b[1m1s\u001b[0m 4ms/step - loss: 0.3367 - r2_score: 0.7417 - val_loss: 0.3553 - val_r2_score: 0.7364\n"
          ]
        }
      ]
    },
    {
      "cell_type": "code",
      "source": [],
      "metadata": {
        "id": "8ZZmrvU-wYNX"
      },
      "execution_count": null,
      "outputs": []
    }
  ]
}